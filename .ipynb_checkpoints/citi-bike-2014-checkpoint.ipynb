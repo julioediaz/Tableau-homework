{
 "cells": [
  {
   "cell_type": "code",
   "execution_count": null,
   "metadata": {
    "collapsed": true
   },
   "outputs": [],
   "source": [
    "# Add `!` preceding the command to run shell commands\n",
    "# Curl accepts ranges\n",
    "!curl -O \"https://s3.amazonaws.com/tripdata/2014[01-12]-citibike-tripdata.zip\"\n",
    "!unzip '*.zip'\n",
    "!rm *.zip"
   ]
  },
  {
   "cell_type": "code",
   "execution_count": null,
   "metadata": {
    "collapsed": true
   },
   "outputs": [],
   "source": [
    "# Get file names\n",
    "import glob\n",
    "filenames = glob.glob('*.csv')"
   ]
  },
  {
   "cell_type": "code",
   "execution_count": null,
   "metadata": {
    "collapsed": true
   },
   "outputs": [],
   "source": [
    "import pandas as pd\n",
    "# Loop through file names and read the data\n",
    "dfs = []\n",
    "for file in filenames:\n",
    "    print('Reading ' + file)\n",
    "    dfs.append(pd.read_csv(file))"
   ]
  },
  {
   "cell_type": "code",
   "execution_count": null,
   "metadata": {
    "collapsed": true
   },
   "outputs": [],
   "source": [
    "# Remove .csv files as we no longer need them\n",
    "!rm *.csv"
   ]
  },
  {
   "cell_type": "code",
   "execution_count": null,
   "metadata": {
    "collapsed": true
   },
   "outputs": [],
   "source": [
    "dfs[7].head(2) # Check August"
   ]
  },
  {
   "cell_type": "code",
   "execution_count": null,
   "metadata": {
    "collapsed": true
   },
   "outputs": [],
   "source": [
    "dfs[8].head(2)  # Check September"
   ]
  },
  {
   "cell_type": "code",
   "execution_count": null,
   "metadata": {
    "collapsed": true
   },
   "outputs": [],
   "source": [
    "print('Converting month:')\n",
    "for month in range(12):\n",
    "    if month < 8:\n",
    "        print('... ' + str(month + 1))\n",
    "        dfs[month]['starttime'] = pd.to_datetime(dfs[month]['starttime'])\n",
    "        dfs[month]['stoptime'] = pd.to_datetime(dfs[month]['stoptime'])\n",
    "    else:\n",
    "        print('... ' + str(month + 1))\n",
    "        dfs[month]['starttime'] = pd.to_datetime(dfs[month]['starttime'],\n",
    "                                                 format = '%m/%d/%Y %H:%M:%S')\n",
    "        dfs[month]['stoptime'] = pd.to_datetime(dfs[month]['stoptime'],\n",
    "                                                format = '%m/%d/%Y %H:%M:%S')"
   ]
  },
  {
   "cell_type": "code",
   "execution_count": null,
   "metadata": {
    "collapsed": true
   },
   "outputs": [],
   "source": [
    "# Confirm that the data type for the two variables is now datetime64\n",
    "dfs[8].dtypes"
   ]
  },
  {
   "cell_type": "code",
   "execution_count": null,
   "metadata": {
    "collapsed": true
   },
   "outputs": [],
   "source": [
    "# Check the format of the time stamps\n",
    "# (simply looking at the last rows will show an example\n",
    "# that used to be in the different format - post September)\n",
    "dfs[8].tail(2)"
   ]
  },
  {
   "cell_type": "code",
   "execution_count": null,
   "metadata": {
    "collapsed": true
   },
   "outputs": [],
   "source": [
    "df = pd.concat(dfs)"
   ]
  },
  {
   "cell_type": "code",
   "execution_count": null,
   "metadata": {
    "collapsed": true
   },
   "outputs": [],
   "source": [
    "df.shape"
   ]
  },
  {
   "cell_type": "code",
   "execution_count": null,
   "metadata": {
    "collapsed": true
   },
   "outputs": [],
   "source": [
    "df.to_csv('../Data/citibike_2014.csv', encoding='utf-8', index=False)"
   ]
  },
  {
   "cell_type": "code",
   "execution_count": null,
   "metadata": {
    "collapsed": true
   },
   "outputs": [],
   "source": []
  }
 ],
 "metadata": {
  "kernelspec": {
   "display_name": "Python 3",
   "language": "python",
   "name": "python3"
  },
  "language_info": {
   "codemirror_mode": {
    "name": "ipython",
    "version": 3
   },
   "file_extension": ".py",
   "mimetype": "text/x-python",
   "name": "python",
   "nbconvert_exporter": "python",
   "pygments_lexer": "ipython3",
   "version": "3.6.3"
  }
 },
 "nbformat": 4,
 "nbformat_minor": 2
}
