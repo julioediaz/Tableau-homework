{
 "cells": [
  {
   "cell_type": "code",
   "execution_count": null,
   "metadata": {},
   "outputs": [],
   "source": [
    "from zipfile import ZipFile\n",
    "from urllib.request import urlopen   \n",
    "import pandas as pd\n",
    "import os\n",
    "\n",
    "URLs = ['https://s3.amazonaws.com/tripdata/201401-citibike-tripdata.zip',\\\n",
    "       'https://s3.amazonaws.com/tripdata/201402-citibike-tripdata.zip',\\\n",
    "       'https://s3.amazonaws.com/tripdata/201403-citibike-tripdata.zip',\\\n",
    "        'https://s3.amazonaws.com/tripdata/201404-citibike-tripdata.zip',\\\n",
    "        'https://s3.amazonaws.com/tripdata/201405-citibike-tripdata.zip',\\\n",
    "        'https://s3.amazonaws.com/tripdata/201406-citibike-tripdata.zip',\\\n",
    "        'https://s3.amazonaws.com/tripdata/201407-citibike-tripdata.zip',\\\n",
    "        'https://s3.amazonaws.com/tripdata/201408-citibike-tripdata.zip',\\\n",
    "        'https://s3.amazonaws.com/tripdata/201409-citibike-tripdata.zip',\\\n",
    "        'https://s3.amazonaws.com/tripdata/201410-citibike-tripdata.zip',\\\n",
    "        'https://s3.amazonaws.com/tripdata/201411-citibike-tripdata.zip',\\\n",
    "        'https://s3.amazonaws.com/tripdata/201412-citibike-tripdata.zip']\n",
    "       \n",
    "dfs=[]\n",
    "for URL in URLs:\n",
    "# open and save the zip file onto computer\n",
    "    url = urlopen(URL)\n",
    "    output = open('zipFile.zip', 'wb')    # note the flag:  \"wb\"        \n",
    "    output.write(url.read())\n",
    "    output.close()\n",
    "\n",
    "# read the zip file as a pandas dataframe\n",
    "    df = pd.read_csv('zipFile.zip')      \n",
    "    dfs.append(df)\n",
    "# if keeping on disk the zip file is not wanted, then:\n",
    "#os.remove(201307-citibike-tripdata.zip)   # remove the copy of the zipfile on disk"
   ]
  },
  {
   "cell_type": "code",
   "execution_count": null,
   "metadata": {},
   "outputs": [],
   "source": [
    "dfs[7].head(2)"
   ]
  },
  {
   "cell_type": "code",
   "execution_count": null,
   "metadata": {},
   "outputs": [],
   "source": [
    "dfs[8].head(2) "
   ]
  },
  {
   "cell_type": "code",
   "execution_count": null,
   "metadata": {},
   "outputs": [],
   "source": [
    "print('Converting month:')\n",
    "for month in range(12):\n",
    "    if month < 8:\n",
    "        print('... ' + str(month + 1))\n",
    "        dfs[month]['starttime'] = pd.to_datetime(dfs[month]['starttime'])\n",
    "        dfs[month]['stoptime'] = pd.to_datetime(dfs[month]['stoptime'])\n",
    "    else:\n",
    "        print('... ' + str(month + 1))\n",
    "        dfs[month]['starttime'] = pd.to_datetime(dfs[month]['starttime'],\n",
    "                                                 format = '%m/%d/%Y %H:%M:%S')\n",
    "        dfs[month]['stoptime'] = pd.to_datetime(dfs[month]['stoptime'],\n",
    "                                                format = '%m/%d/%Y %H:%M:%S')"
   ]
  },
  {
   "cell_type": "code",
   "execution_count": null,
   "metadata": {},
   "outputs": [],
   "source": [
    "# Confirm that the data type for the two variables is now datetime64\n",
    "dfs[8].dtypes"
   ]
  },
  {
   "cell_type": "code",
   "execution_count": null,
   "metadata": {},
   "outputs": [],
   "source": [
    "# Check the format of the time stamps\n",
    "# (simply looking at the last rows will show an example\n",
    "# that used to be in the different format - post September)\n",
    "dfs[8].tail(2)"
   ]
  },
  {
   "cell_type": "code",
   "execution_count": null,
   "metadata": {},
   "outputs": [],
   "source": [
    "df = pd.concat(dfs)\n",
    "df"
   ]
  },
  {
   "cell_type": "code",
   "execution_count": null,
   "metadata": {},
   "outputs": [],
   "source": [
    "df.shape"
   ]
  },
  {
   "cell_type": "code",
   "execution_count": null,
   "metadata": {
    "collapsed": true
   },
   "outputs": [],
   "source": [
    "df.to_csv('Data/citibike_2014.csv', encoding='utf-8', index=False)"
   ]
  },
  {
   "cell_type": "code",
   "execution_count": null,
   "metadata": {
    "collapsed": true
   },
   "outputs": [],
   "source": []
  }
 ],
 "metadata": {
  "kernelspec": {
   "display_name": "Python 3",
   "language": "python",
   "name": "python3"
  },
  "language_info": {
   "codemirror_mode": {
    "name": "ipython",
    "version": 3
   },
   "file_extension": ".py",
   "mimetype": "text/x-python",
   "name": "python",
   "nbconvert_exporter": "python",
   "pygments_lexer": "ipython3",
   "version": "3.6.3"
  }
 },
 "nbformat": 4,
 "nbformat_minor": 2
}
